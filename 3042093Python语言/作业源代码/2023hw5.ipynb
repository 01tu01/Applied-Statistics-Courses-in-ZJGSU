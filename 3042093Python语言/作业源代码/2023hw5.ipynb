{
 "cells": [
  {
   "cell_type": "markdown",
   "metadata": {},
   "source": [
    "1. 增加“红烧肉”，去掉“水煮干丝”"
   ]
  },
  {
   "cell_type": "code",
   "execution_count": null,
   "metadata": {},
   "outputs": [],
   "source": [
    "listA = ['水煮干丝','平桥豆腐','白灼虾','香菇青菜','西红柿鸡蛋汤']\n",
    "listA.append(\"红烧肉\")\n",
    "listA.remove(\"水煮干丝\")\n",
    "print(listA)"
   ]
  },
  {
   "cell_type": "markdown",
   "metadata": {},
   "source": [
    "2. 输出其中的最大值"
   ]
  },
  {
   "cell_type": "code",
   "execution_count": null,
   "metadata": {},
   "outputs": [],
   "source": [
    "data = input()\n",
    "a = data.split(\",\")\n",
    "b = [eval(i) for i in a]\n",
    "print(max(b))"
   ]
  },
  {
   "cell_type": "markdown",
   "metadata": {},
   "source": [
    "3. 求其各整数元素的和"
   ]
  },
  {
   "cell_type": "code",
   "execution_count": null,
   "metadata": {},
   "outputs": [],
   "source": [
    "ls = [123, \"456\", 789, \"123\", 456, \"789\"]\n",
    "s = 0\n",
    "for item in ls:\n",
    "    if type(item) == type(123):\n",
    "        s += item\n",
    "print(s)"
   ]
  },
  {
   "cell_type": "markdown",
   "metadata": {},
   "source": [
    "4. 在数字 789 后增加一个字符串 \"012\""
   ]
  },
  {
   "cell_type": "code",
   "execution_count": null,
   "metadata": {},
   "outputs": [],
   "source": [
    "ls = [123, \"456\", 789, \"123\", 456, \"789\"]\n",
    "ls.insert(3,\"012\")\n",
    "print(ls)"
   ]
  },
  {
   "cell_type": "markdown",
   "metadata": {},
   "source": [
    "5. 删除数字 789"
   ]
  },
  {
   "cell_type": "code",
   "execution_count": null,
   "metadata": {},
   "outputs": [],
   "source": [
    "ls = [123, \"456\", 789, \"123\", 456, \"789\"]\n",
    "ls.remove(789)\n",
    "print(ls)"
   ]
  },
  {
   "cell_type": "markdown",
   "metadata": {},
   "source": [
    "6. 逆序打印"
   ]
  },
  {
   "cell_type": "code",
   "execution_count": null,
   "metadata": {},
   "outputs": [],
   "source": [
    "ls = [123, \"456\", 789, \"123\", 456, \"789\"]\n",
    "ls = ls[::-1]\n",
    "print(ls)"
   ]
  },
  {
   "cell_type": "markdown",
   "metadata": {},
   "source": [
    "7. 序号打印"
   ]
  },
  {
   "cell_type": "code",
   "execution_count": 1,
   "metadata": {},
   "outputs": [
    {
     "name": "stdout",
     "output_type": "stream",
     "text": [
      "2\n"
     ]
    }
   ],
   "source": [
    "ls = [123, \"456\", 789, \"123\", 456, \"789\"]\n",
    "print(ls.index(789))"
   ]
  },
  {
   "cell_type": "markdown",
   "metadata": {},
   "source": [
    "8. 最大公约数"
   ]
  },
  {
   "cell_type": "code",
   "execution_count": null,
   "metadata": {},
   "outputs": [],
   "source": [
    "def gcd(x,y):\n",
    "    if x < y:\n",
    "        x,y = y,x\n",
    "    while (x % y) != 0:\n",
    "        r = x%y\n",
    "        x = y\n",
    "        y = r\n",
    "    return y\n",
    "# 请输入第一个正整数：\n",
    "a = eval(input())\n",
    "# 请输入第二个正整数：\n",
    "b = eval(input())\n",
    "gcdab = gcd(a,b)\n",
    "print(\"{}与{}的最大公约数是{}\".format(a,b,gcdab))"
   ]
  },
  {
   "cell_type": "markdown",
   "metadata": {},
   "source": [
    "9. 平均值"
   ]
  },
  {
   "cell_type": "code",
   "execution_count": null,
   "metadata": {},
   "outputs": [],
   "source": [
    "def mean(numlist):\n",
    "    s = 0.0\n",
    "    for num in numlist:\n",
    "        s = s + num\n",
    "    return s/len(numlist)\n",
    "#请输入一个列表：\n",
    "ls = eval(input())\n",
    "print(\"平均值为：\",mean(ls))"
   ]
  },
  {
   "cell_type": "markdown",
   "metadata": {},
   "source": [
    "10. 完数"
   ]
  },
  {
   "cell_type": "code",
   "execution_count": 4,
   "metadata": {},
   "outputs": [
    {
     "name": "stdout",
     "output_type": "stream",
     "text": [
      "6\n",
      "28\n",
      "496\n"
     ]
    }
   ],
   "source": [
    "for i in range(2,1001):\n",
    "    ls = []\n",
    "    for j in range(1,i):\n",
    "        if i%j == 0:\n",
    "            ls.append(j)\n",
    "    if sum(ls) == i:\n",
    "        print(i)"
   ]
  }
 ],
 "metadata": {
  "kernelspec": {
   "display_name": "Python 3",
   "language": "python",
   "name": "python3"
  },
  "language_info": {
   "codemirror_mode": {
    "name": "ipython",
    "version": 3
   },
   "file_extension": ".py",
   "mimetype": "text/x-python",
   "name": "python",
   "nbconvert_exporter": "python",
   "pygments_lexer": "ipython3",
   "version": "3.6.8"
  }
 },
 "nbformat": 4,
 "nbformat_minor": 2
}
