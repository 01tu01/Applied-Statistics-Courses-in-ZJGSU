{
 "cells": [
  {
   "cell_type": "markdown",
   "metadata": {},
   "source": [
    "1. 实例9：基本统计值计算"
   ]
  },
  {
   "cell_type": "code",
   "execution_count": null,
   "metadata": {},
   "outputs": [],
   "source": [
    "#请在...补充一行或多行代码\n",
    "#CalStatisticsV1.py\n",
    "def getNum():       #获取用户不定长度的输入\n",
    "    a = input().split(',')\n",
    "    return [eval(i) for i in a]\n",
    "\n",
    "def mean(numbers):  #计算平均值\n",
    "    return sum(numbers)/len(numbers)\n",
    "\n",
    "def dev(numbers, mean): #计算标准差\n",
    "    sdev = 0.0\n",
    "    for num in numbers:\n",
    "        sdev = sdev + (num - mean)**2\n",
    "    return pow(sdev / (len(numbers)-1), 0.5)\n",
    "\n",
    "def median(numbers):    #计算中位数\n",
    "    a = sorted(numbers)\n",
    "    x = len(numbers)\n",
    "    if x % 2:\n",
    "        return a[x // 2]\n",
    "    else:\n",
    "        return (a[x // 2 - 1] + a[x // 2])/2\n",
    "\n",
    "n =  getNum() #主体函数\n",
    "m =  mean(n)\n",
    "print(\"平均值:{:.2f},标准差:{:.2f},中位数:{}\".format(m, dev(n, m), median(n)))\n"
   ]
  },
  {
   "cell_type": "markdown",
   "metadata": {},
   "source": [
    "2. 人名独特性统计"
   ]
  },
  {
   "cell_type": "code",
   "execution_count": null,
   "metadata": {},
   "outputs": [],
   "source": [
    "s = '''双儿 洪七公 赵敏 赵敏 逍遥子 鳌拜 殷天正 金轮法王 乔峰 杨过 洪七公 郭靖 \n",
    "       杨逍 鳌拜 殷天正 段誉 杨逍 慕容复 阿紫 慕容复 郭芙 乔峰 令狐冲 郭芙 \n",
    "       金轮法王 小龙女 杨过 慕容复 梅超风 李莫愁 洪七公 张无忌 梅超风 杨逍 \n",
    "       鳌拜 岳不群 黄药师 黄蓉 段誉 金轮法王 忽必烈 忽必烈 张三丰 乔峰 乔峰 \n",
    "       阿紫 乔峰 金轮法王 袁冠南 张无忌 郭襄 黄蓉 李莫愁 赵敏 赵敏 郭芙 张三丰 \n",
    "       乔峰 赵敏 梅超风 双儿 鳌拜 陈家洛 袁冠南 郭芙 郭芙 杨逍 赵敏 金轮法王 \n",
    "       忽必烈 慕容复 张三丰 杨逍 令狐冲 黄药师 袁冠南 杨逍 完颜洪烈 殷天正 \n",
    "       李莫愁 阿紫 逍遥子 乔峰 逍遥子 完颜洪烈 郭芙 杨逍 张无忌 杨过 慕容复 \n",
    "       逍遥子 虚竹 双儿 乔峰 郭芙 黄蓉 李莫愁 陈家洛 杨过 忽必烈 鳌拜 王语嫣 \n",
    "       洪七公 韦小宝 阿朱 梅超风 段誉 岳灵珊 完颜洪烈 乔峰 段誉 杨过 杨过 慕容复 \n",
    "       黄蓉 杨过 阿紫 杨逍 张三丰 张三丰 赵敏 张三丰 杨逍 黄蓉 金轮法王 郭襄 \n",
    "       张三丰 令狐冲 郭芙 韦小宝 黄药师 阿紫 韦小宝 金轮法王 杨逍 令狐冲 阿紫 \n",
    "       洪七公 袁冠南 双儿 郭靖 鳌拜 谢逊 阿紫 郭襄 梅超风 张无忌 段誉 忽必烈 \n",
    "       完颜洪烈 双儿 逍遥子 谢逊 完颜洪烈 殷天正 金轮法王 张三丰 双儿 郭襄 阿朱 \n",
    "       郭襄 双儿 李莫愁 郭襄 忽必烈 金轮法王 张无忌 鳌拜 忽必烈 郭襄 令狐冲 \n",
    "       谢逊 梅超风 殷天正 段誉 袁冠南 张三丰 王语嫣 阿紫 谢逊 杨过 郭靖 黄蓉 \n",
    "       双儿 灭绝师太 段誉 张无忌 陈家洛 黄蓉 鳌拜 黄药师 逍遥子 忽必烈 赵敏 \n",
    "       逍遥子 完颜洪烈 金轮法王 双儿 鳌拜 洪七公 郭芙 郭襄'''\n",
    "print(len(set(s.split())))"
   ]
  },
  {
   "cell_type": "markdown",
   "metadata": {},
   "source": [
    "3. 字典翻转输出"
   ]
  },
  {
   "cell_type": "code",
   "execution_count": null,
   "metadata": {},
   "outputs": [],
   "source": [
    "d = eval(input())\n",
    "new = dict()\n",
    "if isinstance(d,dict):\n",
    "    for i in d.keys():\n",
    "        k = d[i]\n",
    "        new[k]=i\n",
    "    print(new)\n",
    "else:\n",
    "    print('输入错误')"
   ]
  },
  {
   "cell_type": "markdown",
   "metadata": {},
   "source": [
    "4. 人名最多数统计"
   ]
  },
  {
   "cell_type": "code",
   "execution_count": null,
   "metadata": {},
   "outputs": [],
   "source": [
    "s = '''双儿 洪七公 赵敏 赵敏 逍遥子 鳌拜 殷天正 金轮法王 乔峰 杨过 洪七公 郭靖 \n",
    "       杨逍 鳌拜 殷天正 段誉 杨逍 慕容复 阿紫 慕容复 郭芙 乔峰 令狐冲 郭芙 \n",
    "       金轮法王 小龙女 杨过 慕容复 梅超风 李莫愁 洪七公 张无忌 梅超风 杨逍 \n",
    "       鳌拜 岳不群 黄药师 黄蓉 段誉 金轮法王 忽必烈 忽必烈 张三丰 乔峰 乔峰 \n",
    "       阿紫 乔峰 金轮法王 袁冠南 张无忌 郭襄 黄蓉 李莫愁 赵敏 赵敏 郭芙 张三丰 \n",
    "       乔峰 赵敏 梅超风 双儿 鳌拜 陈家洛 袁冠南 郭芙 郭芙 杨逍 赵敏 金轮法王 \n",
    "       忽必烈 慕容复 张三丰 赵敏 杨逍 令狐冲 黄药师 袁冠南 杨逍 完颜洪烈 殷天正 \n",
    "       李莫愁 阿紫 逍遥子 乔峰 逍遥子 完颜洪烈 郭芙 杨逍 张无忌 杨过 慕容复 \n",
    "       逍遥子 虚竹 双儿 乔峰 郭芙 黄蓉 李莫愁 陈家洛 杨过 忽必烈 鳌拜 王语嫣 \n",
    "       洪七公 韦小宝 阿朱 梅超风 段誉 岳灵珊 完颜洪烈 乔峰 段誉 杨过 杨过 慕容复 \n",
    "       黄蓉 杨过 阿紫 杨逍 张三丰 张三丰 赵敏 张三丰 杨逍 黄蓉 金轮法王 郭襄 \n",
    "       张三丰 令狐冲 赵敏 郭芙 韦小宝 黄药师 阿紫 韦小宝 金轮法王 杨逍 令狐冲 阿紫 \n",
    "       洪七公 袁冠南 双儿 郭靖 鳌拜 谢逊 阿紫 郭襄 梅超风 张无忌 段誉 忽必烈 \n",
    "       完颜洪烈 双儿 逍遥子 谢逊 完颜洪烈 殷天正 金轮法王 张三丰 双儿 郭襄 阿朱 \n",
    "       郭襄 双儿 李莫愁 郭襄 忽必烈 金轮法王 张无忌 鳌拜 忽必烈 郭襄 令狐冲 \n",
    "       谢逊 梅超风 殷天正 段誉 袁冠南 张三丰 王语嫣 阿紫 谢逊 杨过 郭靖 黄蓉 \n",
    "       双儿 灭绝师太 段誉 张无忌 陈家洛 黄蓉 鳌拜 黄药师 逍遥子 忽必烈 赵敏 \n",
    "       逍遥子 完颜洪烈 金轮法王 双儿 鳌拜 洪七公 郭芙 郭襄 赵敏'''\n",
    "a=s.split()\n",
    "new=dict()\n",
    "for i in a:\n",
    "    new[i]=new.get(i,0)+1\n",
    "item=list(new.items())\n",
    "item.sort(key=lambda x:x[1],reverse=True)\n",
    "print(item[0][0])"
   ]
  },
  {
   "cell_type": "markdown",
   "metadata": {},
   "source": [
    "5. 数字不同数之和"
   ]
  },
  {
   "cell_type": "code",
   "execution_count": null,
   "metadata": {},
   "outputs": [],
   "source": [
    "N = input()\n",
    "N = set(N)\n",
    "s = [eval(i) for i in N]\n",
    "print(sum(s))"
   ]
  },
  {
   "cell_type": "markdown",
   "metadata": {},
   "source": [
    "6. 列表元素计算"
   ]
  },
  {
   "cell_type": "code",
   "execution_count": null,
   "metadata": {},
   "outputs": [],
   "source": [
    "def mean(numlist):\n",
    "    s = 0.0\n",
    "    for num in numlist:\n",
    "        s = s + num\n",
    "    return s/len(numlist)\n",
    "#请输入一个列表：\n",
    "ls = eval(input())\n",
    "print(\"average:\",mean(ls))"
   ]
  },
  {
   "cell_type": "markdown",
   "metadata": {},
   "source": [
    "7. 字典最大值"
   ]
  },
  {
   "cell_type": "code",
   "execution_count": null,
   "metadata": {},
   "outputs": [],
   "source": [
    "fruits = {\"apple\":10,\"mango\":12,\"durian\":20,\"banana\":5}\n",
    "m = 'apple'\n",
    "for key in fruits.keys():\n",
    "    if fruits[key]>fruits[m]:\n",
    "        m=key\n",
    "print('{}:{}'.format(m,fruits[m]))"
   ]
  },
  {
   "cell_type": "markdown",
   "metadata": {},
   "source": [
    "8. 输出一串字符对应的Unicode值"
   ]
  },
  {
   "cell_type": "code",
   "execution_count": null,
   "metadata": {},
   "outputs": [],
   "source": [
    "s = input(\"\")#输入一个字符串\n",
    "ls = []\n",
    "for c in s:\n",
    "    ls.append(str(ord(c)))\n",
    "print(','.join(ls))"
   ]
  },
  {
   "cell_type": "markdown",
   "metadata": {},
   "source": [
    "9. 列表基本操作：元素增加、删除"
   ]
  },
  {
   "cell_type": "code",
   "execution_count": null,
   "metadata": {},
   "outputs": [],
   "source": [
    "listA = ['水煮干丝','平桥豆腐','白灼虾','香菇青菜','西红柿鸡蛋汤']\n",
    "listA.append(\"红烧肉\")\n",
    "listA.remove(\"水煮干丝\")\n",
    "print(listA)"
   ]
  },
  {
   "cell_type": "markdown",
   "metadata": {},
   "source": [
    "10. 字典值求和"
   ]
  },
  {
   "cell_type": "code",
   "execution_count": null,
   "metadata": {},
   "outputs": [],
   "source": [
    "dictMenu = {'卡布奇洛':32,'摩卡':30,'抹茶蛋糕':28,'布朗尼':26}\n",
    "x=dictMenu.values()\n",
    "sum=0\n",
    "for i in x:\n",
    "    sum +=  i\n",
    "print(sum)"
   ]
  },
  {
   "cell_type": "markdown",
   "metadata": {},
   "source": [
    "11. 列表增加元素"
   ]
  },
  {
   "cell_type": "code",
   "execution_count": null,
   "metadata": {},
   "outputs": [],
   "source": [
    "import random\n",
    "ls=[]\n",
    "\n",
    "random.seed(10)\n",
    "for i in range(10):\n",
    "    a=random.randint(0,100)\n",
    "    ls.append(a)\n",
    "print(ls)"
   ]
  },
  {
   "cell_type": "markdown",
   "metadata": {},
   "source": [
    "12. 计算消费总额"
   ]
  },
  {
   "cell_type": "code",
   "execution_count": null,
   "metadata": {},
   "outputs": [],
   "source": [
    "#请删除横线，编辑文件，运行提交\n",
    "dictMenu = {'卡布奇洛':32,'摩卡':30,'抹茶蛋糕':28,'布朗尼':26}\n",
    "sum=0\n",
    "for i in dictMenu.values():\n",
    "    sum +=  i\n",
    "print(sum)"
   ]
  },
  {
   "cell_type": "markdown",
   "metadata": {},
   "source": [
    "13. 字典 I"
   ]
  },
  {
   "cell_type": "code",
   "execution_count": null,
   "metadata": {},
   "outputs": [],
   "source": [
    "d = {123:\"123\", 456:\"456\", 789:\"789\"}\n",
    "print(list(d.keys()))"
   ]
  },
  {
   "cell_type": "markdown",
   "metadata": {},
   "source": [
    "14. 中文字符替换"
   ]
  },
  {
   "cell_type": "code",
   "execution_count": null,
   "metadata": {},
   "outputs": [],
   "source": [
    "n = input(\"请输入一个数字：\")\n",
    "s = \"〇一二三四五六七八九\"\n",
    "for c in \"0123456789\":\n",
    "    n = n.replace(c,s[eval(c)])\n",
    "print(n)"
   ]
  },
  {
   "cell_type": "markdown",
   "metadata": {},
   "source": [
    "15. 双一流高校及所在省份统计"
   ]
  },
  {
   "cell_type": "code",
   "execution_count": null,
   "metadata": {},
   "outputs": [],
   "source": [
    "d = {\"北京大学\":\"北京\", \"中国人民大学\":\"北京\",\"清华大学\":\"北京\",\\\n",
    "\"北京航空航天大学\":\"北京\",\"北京理工大学\":\"北京\",\"中国农业大学\":\"北京\",\\\n",
    "\"北京师范大学\":\"北京\",\"中央民族大学\":\"北京\",\"南开大学\":\"天津\",\\\n",
    "\"天津大学\":\"天津\",\"大连理工大学\":\"辽宁\",\"吉林大学\":\"吉林\",\\\n",
    "\"哈尔滨工业大学\":\"黑龙江\",\"复旦大学\":\"上海\", \"同济大学\":\"上海\",\\\n",
    "\"上海交通大学\":\"上海\",\"华东师范大学\":\"上海\", \"南京大学\":\"江苏\",\\\n",
    "\"东南大学\":\"江苏\",\"浙江大学\":\"浙江\",\"中国科学技术大学\":\"安徽\",\\\n",
    "\"厦门大学\":\"福建\",\"山东大学\":\"山东\", \"中国海洋大学\":\"山东\",\\\n",
    "\"武汉大学\":\"湖北\",\"华中科技大学\":\"湖北\", \"中南大学\":\"湖南\",\\\n",
    "\"中山大学\":\"广东\",\"华南理工大学\":\"广东\", \"四川大学\":\"四川\",\\\n",
    "\"电子科技大学\":\"四川\",\"重庆大学\":\"重庆\",\"西安交通大学\":\"陕西\",\\\n",
    "\"西北工业大学\":\"陕西\",\"兰州大学\":\"甘肃\", \"国防科技大学\":\"湖南\",\\\n",
    "\"东北大学\":\"辽宁\",\"郑州大学\":\"河南\", \"湖南大学\":\"湖南\", \"云南大学\":\"云南\", \\\n",
    "\"西北农林科技大学\":\"陕西\", \"新疆大学\":\"新疆\"}\n",
    "new=dict()\n",
    "for i in d.values():\n",
    "    new[i] = new.get(i,0)+1\n",
    "\n",
    "items = list(new.items())\n",
    "#输出省份统计\n",
    "for i in range(len(items)):\n",
    "\tword,count = items[i]\n",
    "\tprint(\"{}:{}\".format(word,count))"
   ]
  },
  {
   "cell_type": "markdown",
   "metadata": {},
   "source": [
    "16. 最大值"
   ]
  },
  {
   "cell_type": "code",
   "execution_count": null,
   "metadata": {},
   "outputs": [],
   "source": [
    "n = input()\n",
    "a = n.split(',')\n",
    "b = [eval(i) for i in a]\n",
    "print(max(b))"
   ]
  },
  {
   "cell_type": "markdown",
   "metadata": {},
   "source": [
    "17. 点餐"
   ]
  },
  {
   "cell_type": "code",
   "execution_count": null,
   "metadata": {},
   "outputs": [],
   "source": [
    "listA = ['水煮干丝','平桥豆腐','白灼虾','香菇青菜','西红柿鸡蛋汤']\n",
    "listA.append(\"红烧肉\")\n",
    "listA.remove(\"水煮干丝\")\n",
    "print(listA)"
   ]
  },
  {
   "cell_type": "markdown",
   "metadata": {},
   "source": [
    "18. 字典 II"
   ]
  },
  {
   "cell_type": "code",
   "execution_count": null,
   "metadata": {},
   "outputs": [],
   "source": [
    "fruits = {\"apple\":10,\"mango\":12,\"durian\":20,\"banana\":5}\n",
    "m = 'apple'\n",
    "for key in fruits.keys():\n",
    "    if fruits[key]>fruits[m]:\n",
    "        m = key\n",
    "print('{}:{}'.format(m,fruits[m]))"
   ]
  }
 ],
 "metadata": {
  "kernelspec": {
   "display_name": "Python 3",
   "language": "python",
   "name": "python3"
  },
  "language_info": {
   "codemirror_mode": {
    "name": "ipython",
    "version": 3
   },
   "file_extension": ".py",
   "mimetype": "text/x-python",
   "name": "python",
   "nbconvert_exporter": "python",
   "pygments_lexer": "ipython3",
   "version": "3.6.8"
  }
 },
 "nbformat": 4,
 "nbformat_minor": 2
}
