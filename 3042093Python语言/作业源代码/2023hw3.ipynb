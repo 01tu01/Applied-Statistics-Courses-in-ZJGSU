{
 "cells": [
  {
   "cell_type": "markdown",
   "metadata": {},
   "source": [
    "1. 鸡兔同笼"
   ]
  },
  {
   "cell_type": "code",
   "execution_count": 4,
   "metadata": {},
   "outputs": [
    {
     "name": "stdout",
     "output_type": "stream",
     "text": [
      "-24 12\n",
      "Data Error!\n"
     ]
    }
   ],
   "source": [
    "a, b = input().split()\n",
    "\n",
    "def solve(a, b):\n",
    "    if a < 0 or b < 0:\n",
    "        print(\"Data Error!\")\n",
    "        return\n",
    "    rabbits = b/2 - a\n",
    "    chi = a - rabbits\n",
    "    if chi - int(chi) != 0 or chi < 0 or rabbits < 0:\n",
    "        print(\"Data Error!\")\n",
    "        return\n",
    "    print(f\"有{int(chi)}只鸡，{int(rabbits)}只兔\")\n",
    "\n",
    "    return\n",
    "\n",
    "solve(int(a),int(b))"
   ]
  },
  {
   "cell_type": "markdown",
   "metadata": {},
   "source": [
    "2. 中国古代数学问题——物不知数"
   ]
  },
  {
   "cell_type": "code",
   "execution_count": null,
   "metadata": {},
   "outputs": [],
   "source": [
    "n = eval(input())\n",
    "flag = 0\n",
    "for i in range(n+1):\n",
    "    if (i%3 == 2) and (i%5 == 3) and (i%7 == 2):\n",
    "        print(i)\n",
    "        flag = 1\n",
    "if not flag:\n",
    "    print('No solution!')"
   ]
  },
  {
   "cell_type": "markdown",
   "metadata": {},
   "source": [
    "3. 中国古代数学问题——二鼠打洞"
   ]
  },
  {
   "cell_type": "code",
   "execution_count": null,
   "metadata": {},
   "outputs": [],
   "source": [
    "wall = eval(input())\n",
    "mouse1 = 1\n",
    "mouse2 = 1\n",
    "day = 0\n",
    "sum1 = 0\n",
    "sum2 = 0\n",
    "while wall > 0:\n",
    "    if wall - mouse1 - mouse2 <= 0:\n",
    "        t = wall / (mouse1 + mouse2)\n",
    "        sum1 += (t * mouse1)\n",
    "        sum2 += (t * mouse2)\n",
    "        day += 1\n",
    "        break\n",
    "    else:\n",
    "        wall -= (mouse1 + mouse2)\n",
    "        day += 1\n",
    "        sum1 += mouse1\n",
    "        sum2 += mouse2\n",
    "        mouse1 *= 2\n",
    "        mouse2 *= 0.5\n",
    "print(day)\n",
    "print(round(sum2, 1), round(sum1, 1), sep=' ')"
   ]
  },
  {
   "cell_type": "markdown",
   "metadata": {},
   "source": [
    "4. 中国古代数学问题——李白买酒"
   ]
  },
  {
   "cell_type": "code",
   "execution_count": null,
   "metadata": {},
   "outputs": [],
   "source": [
    "wine = 0\n",
    "for i in range(5):\n",
    "    wine += 1\n",
    "    wine /= 2\n",
    "print(wine)"
   ]
  },
  {
   "cell_type": "markdown",
   "metadata": {},
   "source": [
    "5. 中国古代数学问题——宝塔上的琉璃灯"
   ]
  },
  {
   "cell_type": "code",
   "execution_count": 6,
   "metadata": {},
   "outputs": [
    {
     "name": "stdout",
     "output_type": "stream",
     "text": [
      "3.0\n",
      "6.0\n",
      "12.0\n",
      "24.0\n",
      "48.0\n",
      "96.0\n",
      "192.0\n",
      "384.0\n"
     ]
    }
   ],
   "source": [
    "floor = 765 / (2**8 - 1)\n",
    "for i in range(8):\n",
    "    print(int(floor*(2**i)))"
   ]
  },
  {
   "cell_type": "markdown",
   "metadata": {},
   "source": [
    "6. 计算圆周率——割圆法"
   ]
  },
  {
   "cell_type": "code",
   "execution_count": 5,
   "metadata": {},
   "outputs": [
    {
     "name": "stdout",
     "output_type": "stream",
     "text": [
      "4\n",
      "分割4次，边数为96，圆周率为3.141032\n",
      "math库中的圆周率常量值为3.141593\n"
     ]
    }
   ],
   "source": [
    "# --------      -------    --------\n",
    "# @Author : 赵广辉\n",
    "# @Contact: vasp@qq.com\n",
    "# @Company: 武汉理工大学\n",
    "# @Version: 1.0\n",
    "# @Modify : 2022/06/13 11:33\n",
    "# Python程序设计基础，赵广辉，高等教育出版社，2021\n",
    "# Python程序设计基础实践教程，赵广辉，高等教育出版社，2021\n",
    "# --------      -------    --------\n",
    "\n",
    "# π=周长/(2*圆的半径)得到π的近似值。\n",
    "# 半径为1的圆内接正6边形边长也是1\n",
    "# 边长  side_length\n",
    "# 半径  radius\n",
    "# 圆周率 pi\n",
    "# 三角形的高 height\n",
    "import math\n",
    "\n",
    "\n",
    "def cutting_circle(times):   # times为分割次数\n",
    "    side_length = 1          # 初始边长\n",
    "    edges = 6                # 初始边数\n",
    "    def length(x):\n",
    "        h = math.sqrt(1 - (x / 2)**2)\n",
    "        result = math.sqrt((x / 2)**2 + (1-h)**2)\n",
    "        return result\n",
    "\n",
    "    for i in range(times):\n",
    "        side_length = length(side_length)\n",
    "        edges = edges * 2\n",
    "        pi = side_length*edges/2\n",
    "\n",
    "    return edges, pi\n",
    "\n",
    "\n",
    "if __name__ == '__main__':\n",
    "    times = int(input())          # 割圆次数\n",
    "    print('分割{}次，边数为{}，圆周率为{:.6f}'.format(times, *cutting_circle(times)))          # 圆周率\n",
    "    print('math库中的圆周率常量值为{:.6f}'.format(math.pi))"
   ]
  },
  {
   "cell_type": "markdown",
   "metadata": {},
   "source": [
    "7. 计算圆周率——无穷级数法"
   ]
  },
  {
   "cell_type": "code",
   "execution_count": 6,
   "metadata": {},
   "outputs": [
    {
     "name": "stdout",
     "output_type": "stream",
     "text": [
      "2e-7\n",
      "3.14159225\n"
     ]
    }
   ],
   "source": [
    "def leibniz_of_pi(error):\n",
    "    num = 0\n",
    "    i = 1\n",
    "    while 1/(2*i-1) >= error:\n",
    "        num += 4*(-1)**(i+1)/(2*i-1)\n",
    "        i += 1\n",
    "    return num\n",
    "\n",
    "if __name__ == '__main__':\n",
    "    threshold = float(input())\n",
    "    print(\"{:.8f}\".format(leibniz_of_pi(threshold)))"
   ]
  },
  {
   "cell_type": "markdown",
   "metadata": {},
   "source": [
    "8. 计算圆周率——蒙特卡洛法"
   ]
  },
  {
   "cell_type": "code",
   "execution_count": null,
   "metadata": {},
   "outputs": [],
   "source": [
    "import random\n",
    "sd = eval(input())\n",
    "num = eval(input())\n",
    "\n",
    "random.seed(sd)\n",
    "\n",
    "n = 0\n",
    "for i in range(num):\n",
    "    x, y = random.uniform(-1,1), random.uniform(-1,1)\n",
    "    if (x**2 + y**2) <= 1:\n",
    "        n += 1\n",
    "\n",
    "m_pi = n / num*4\n",
    "print(m_pi)"
   ]
  },
  {
   "cell_type": "markdown",
   "metadata": {},
   "source": [
    "9. 素数问题"
   ]
  },
  {
   "cell_type": "code",
   "execution_count": 24,
   "metadata": {},
   "outputs": [
    {
     "name": "stdout",
     "output_type": "stream",
     "text": [
      "哥德巴赫猜想\n",
      "30\n",
      "30=7+23\n",
      "30=11+19\n",
      "30=13+17\n"
     ]
    }
   ],
   "source": [
    "# --------      -------    --------\n",
    "# @Author : 赵广辉\n",
    "# @Contact: vasp@qq.com\n",
    "# @Company: 武汉理工大学\n",
    "# @Version: 1.0\n",
    "# @Modify : 2022/06/13 11:33\n",
    "# Python程序设计基础，赵广辉，高等教育出版社，2021\n",
    "# Python程序设计基础实践教程，赵广辉，高等教育出版社，2021\n",
    "# --------      -------    --------\n",
    "\n",
    "def question_judge(question):\n",
    "    \"\"\"接收一个字符串为参数，根据参数值判断问题类型，调用合适的函数进行操作。\"\"\"\n",
    "    if question == '素数':       # 如果输入”素数“，再输入一个正整数n，输出不大于n的所有素数\n",
    "        n = int(input())\n",
    "        output_prime(n)         # 输出素数\n",
    "    elif question == '回文素数':\n",
    "        n = int(input())\n",
    "        palindromic_prime(n)   # 输出回文素数\n",
    "    elif question == '反素数':\n",
    "        n = int(input())\n",
    "        reverse_prime(n)  # 输出反素数\n",
    "    elif question == '哥德巴赫猜想':\n",
    "        n = int(input())\n",
    "        goldbach_conjecture(n)\n",
    "    else:\n",
    "        print('输入错误')\n",
    "\n",
    "\n",
    "\n",
    "def is_prime(n):\n",
    "    \"\"\"判断素数的函数,接收一个正整数为参数，参数是素数时返回True，否则返回False\n",
    "    减小判定区间，减少循环次数，提升效率\"\"\"\n",
    "    flag = True\n",
    "    if n == 1:\n",
    "        flag = False\n",
    "    else:\n",
    "        for i in range(2, int(n**0.5) + 1):\n",
    "            if n % i == 0:\n",
    "                flag = False\n",
    "                break\n",
    "    return flag\n",
    "\n",
    "\n",
    "\n",
    "def output_prime(number):\n",
    "    \"\"\"接收一个正整数为参数，遍历从0到number之间的所有整数\n",
    "    在一行中输出不大于number的所有素数，函数无返回值\"\"\"\n",
    "    for i in range(1, number+1):\n",
    "        if is_prime(i):\n",
    "            print(i, end=' ')\n",
    "\n",
    "\n",
    "\n",
    "def palindromic(num):\n",
    "    \"\"\"接收一个数字为参数，判定其是否为回文数，返回布尔值。\"\"\"\n",
    "    return str(num) == str(num)[::-1]\n",
    "\n",
    "\n",
    "def palindromic_prime(number):\n",
    "    \"\"\"接收一个正整数参数number，遍历从0到number之间的所有整数，\n",
    "    若某个数是素数，且转为字符串后是回文字符串，则称其为回文素数\n",
    "    找出并在同一行中从小到大输出小于number的所有回文素数，各数字间用一个空格分隔，\n",
    "    函数无返回值\"\"\"\n",
    "    for i in range(1, number):\n",
    "        if palindromic(i) and is_prime(i):\n",
    "            print(i, end=' ')\n",
    "\n",
    "\n",
    "\n",
    "def reverse_num(num):\n",
    "    \"\"\"接收一个整数，返回其逆序字符串对应的整数\"\"\"\n",
    "    return int(str(num)[::-1])\n",
    "\n",
    "\n",
    "def reverse_prime(number):\n",
    "    \"\"\"接收一个正整数参数，找出并在同一行内输出所有小于number的反素数，数字间用一个空格分隔。\n",
    "    反素数指某数i及其逆序数都是素数，但数i对应的字符串不是回文字符串\n",
    "    函数无返回值\"\"\"\n",
    "    for i in range(1, number):\n",
    "        if not palindromic(i) and is_prime(i) and is_prime(reverse_num(i)):\n",
    "            print(i, end=' ')\n",
    "\n",
    "\n",
    "\n",
    "def goldbach_conjecture(num):\n",
    "    \"\"\" 哥德巴赫猜想, 接收一个不小于4的正整数为参数。\n",
    "    当参数为不小于4的偶数时，将其分解为两个素数的加和，按小数+数的格式输出。\n",
    "    有多种组合时全部输出，但不输出重复的组合，例如输出8=3+5，不输出8=5+3。\n",
    "    参数为奇数或小于4时，输出'Data error!'\n",
    "    \"\"\"\n",
    "    if num < 4 or num%2 != 0:\n",
    "        print('Data error!')\n",
    "    else:\n",
    "        for i in range(2, num // 2 + 1):\n",
    "            j = num - i\n",
    "            if is_prime(i) and is_prime(j):\n",
    "                print(f'{num}={i}+{j}')\n",
    "\n",
    "\n",
    "\n",
    "\n",
    "if __name__ == '__main__':\n",
    "    problems = input()\n",
    "    question_judge(problems)"
   ]
  },
  {
   "cell_type": "markdown",
   "metadata": {},
   "source": [
    "10. 计算圆周率"
   ]
  },
  {
   "cell_type": "code",
   "execution_count": 15,
   "metadata": {},
   "outputs": [
    {
     "name": "stdout",
     "output_type": "stream",
     "text": [
      "拉马努金法\n",
      "1\n",
      "3.1415926535897936\n"
     ]
    }
   ],
   "source": [
    "# --------      -------    --------\n",
    "# @File   : 计算圆周率.py \n",
    "# @Author : 赵广辉   \n",
    "# @Contact: vasp@qq.com\n",
    "# @Company: 武汉理工大学\n",
    "# @Version: 1.0\n",
    "# @Modify : 2021/10/30 23:18\n",
    "# Python程序设计基础，高等教育出版社\n",
    "# --------      -------    --------\n",
    "import math\n",
    "import random\n",
    "import matplotlib.pyplot as plt\n",
    "\n",
    "\n",
    "def type_judge(pi_type):\n",
    "    \"\"\"接收一个字符串为参数，根据参数调用相应函数计算圆周率。    \"\"\"\n",
    "    if pi_type == '割圆法':\n",
    "        times = int(input())  # 输入一个表示边数量的正整数\n",
    "        return cutting_circle(times)  # 调用函数计算圆周率\n",
    "    elif pi_type == '无穷级数法':\n",
    "        threshold = float(input())   # 输入转为浮点数\n",
    "        return leibniz_of_pi(threshold)  # 调用函数计算圆周率\n",
    "    elif pi_type == '蒙特卡洛法':\n",
    "        num = int(input())           # 输入转为整数\n",
    "        s = int(input())             # 输入随机数种子\n",
    "        return monte_carlo_pi(num, s)  # 调用函数计算圆周率\n",
    "    elif pi_type == '梅钦法':\n",
    "        return machin_of_pi()  # 调用函数计算圆周率\n",
    "    elif pi_type == '拉马努金法':\n",
    "        num = int(input())  # 输入转为整数\n",
    "        return ramanujan_of_pi(num)\n",
    "    else:\n",
    "        return f'未找到{pi_type}计算方法'\n",
    "\n",
    "\n",
    "def cutting_circle(times):\n",
    "    \"\"\"参数times为分割次数\n",
    "    π = 周长/(2*圆的半径)得到π的近似值。\n",
    "    # 半径为1的圆内接正6边形边长也是1\n",
    "    # 边长  side_length\n",
    "    # 半径  radius\n",
    "    # 圆周率 pi\n",
    "    # 三角形的高 height\n",
    "    \"\"\"\n",
    "    side_length = 1          # 初始边长\n",
    "    edges = 6                # 初始边数\n",
    "    def length(x):\n",
    "        h = math.sqrt(1 - (x / 2)**2)\n",
    "        result = math.sqrt((x / 2)**2 + (1-h)**2)\n",
    "        return result\n",
    "\n",
    "    for i in range(times):\n",
    "        side_length = length(side_length)\n",
    "        edges = edges * 2\n",
    "        pi = side_length*edges/2\n",
    "\n",
    "    return pi\n",
    "\n",
    "\n",
    "def leibniz_of_pi(error):\n",
    "    \"\"\"接收用户输入的浮点数阈值为参数，用格雷戈里-莱布尼茨级数计算圆周率，返回圆周率值\"\"\"\n",
    "    pi = 0\n",
    "    i = 1\n",
    "    while 1/(2*i-1) >= error:\n",
    "        pi += 4*(-1)**(i+1)/(2*i-1)\n",
    "        i += 1\n",
    "    return pi\n",
    "\n",
    "\n",
    "def monte_carlo_pi(num, s):\n",
    "    \"\"\"接收一个表示随机次数的整数和一个整数做随机数种子，用蒙特卡洛法计算圆周率，返回一个浮点数\"\"\"\n",
    "    random.seed(s)\n",
    "    n = 0\n",
    "    for i in range(num):\n",
    "        x, y = random.uniform(-1,1), random.uniform(-1,1)\n",
    "        if (x**2 + y**2) <= 1:\n",
    "            n += 1\n",
    "\n",
    "    pi = n / num*4\n",
    "    return pi\n",
    "\n",
    "def machin_of_pi():\n",
    "    \"\"\"用梅钦级数计算圆周率，返回圆周率值\"\"\"\n",
    "    pi = 4*(4*math.atan(1/5) - math.atan(1/239))\n",
    "    return pi\n",
    "\n",
    "def ramanujan_of_pi(n):\n",
    "    \"\"\"接收一个正整数n为参数，用拉马努金公式的前n项计算圆周率并返回。\"\"\"\n",
    "    s = 0\n",
    "    for i in range(n+1):\n",
    "        s += (math.factorial(4*i) * (1103+26390*i)) / ((math.factorial(i))**4 * 396 ** (4*i))\n",
    "    pi = 1 / ((2*math.sqrt(2)) / 9801 * s)\n",
    "    return pi\n",
    "\n",
    "\n",
    "# 取消以下代码行前面的注释可以调用其中的函数对割圆法和蒙特卡洛法进行演示\n",
    "\n",
    "# def draw_circle(r, side_num):\n",
    "#     \"\"\"创建图形和轴，用折线图绘制正多边形。\n",
    "#     @参数 r：圆的半径\n",
    "#     @参数 side_num：正多边形的边数\n",
    "#     \"\"\"\n",
    "#     fig, ax = plt.subplots()           # 创建图形和轴\n",
    "#     plt.subplots_adjust(left=0.1, bottom=0.25)\n",
    "#     x, y = xy_of_polygon(r, side_num)\n",
    "#     plt.plot(x, y, lw=2, color='red')  # 设置线宽和颜色\n",
    "#     ax.set_aspect('equal')             # 设置坐标轴纵横比相等\n",
    "#     ax.set_xlim(-r-5, r+5)             # 设置x轴刻度起止值\n",
    "#     ax.set_ylim(-r-5, r+5)\n",
    "#     plt.draw()                         # 重新绘制多边形\n",
    "#     plt.show()                         # 显示图形\n",
    "# \n",
    "# \n",
    "# def cutting_circle(times):\n",
    "#     \"\"\"\n",
    "#     接收表示分割次数的整数n 为参数，计算分割n 次时正多边形的边数和圆周率值，返回边数和圆周率值。\n",
    "#     @参数 times：分割次数\n",
    "#     π = 周长/(2*圆的半径)得到π的近似值。\n",
    "#     # 半径为1的圆内接正6边形边长也是1\n",
    "#     # 边长  side_length\n",
    "#     # 半径  radius\n",
    "#     # 圆周率 pi\n",
    "#     # 三角形的高 height\n",
    "#     >>> cutting_circle(4)\n",
    "#     3.14103195089051\n",
    "#     \"\"\"\n",
    "#     side_length = 1          # 初始边长\n",
    "#     edges = 6                # 初始边数\n",
    "#     for i in range(times):\n",
    "#         height = 1 - math.sqrt(1 - (side_length / 2) ** 2)\n",
    "#         side_length = math.sqrt(height ** 2 + (side_length / 2) ** 2)\n",
    "#         edges = edges * 2          # 每割一次，边数量加倍\n",
    "#         draw_circle(300, edges)  # 调用此函数可演示割圆效果，每次循环绘制一个近似圆，关闭后看下一个\n",
    "#     pi = side_length * edges / 2\n",
    "#     return pi\n",
    "# \n",
    "# \n",
    "# def monte_carlo_show(in_circle_lst, out_circle_lst):\n",
    "#     \"\"\"\n",
    "#     @参数 in_circle_lst：落在圆内的点的坐标列表\n",
    "#     @参数 out_circle_lst：落在圆外的点的坐标列表\n",
    "# \n",
    "#     \"\"\"\n",
    "#     plt.rcParams['font.sans-serif'] = ['SimHei']   # 用来正常显示中文标签\n",
    "#     plt.rcParams['axes.unicode_minus'] = False     # 用来正常显示负号\n",
    "#     plt.figure(figsize=(11, 11))                   # 设置画布长宽\n",
    "#     x_in_circle = [x[0] for x in in_circle_lst]    # 落在圆内的点的列表x\n",
    "#     y_in_circle = [x[1] for x in in_circle_lst]    # 落在圆内的点的列表y\n",
    "#     x_out_circle = [x[0] for x in out_circle_lst]  # 落在圆外的点的列表x\n",
    "#     y_out_circle = [x[1] for x in out_circle_lst]  # 落在圆外的点的列表y\n",
    "#     plt.scatter(x_out_circle, y_out_circle, s=10, facecolors='blue')  # 绘制散点，落在圆外在点颜色用蓝色\n",
    "#     plt.scatter(x_in_circle, y_in_circle, s=5, facecolors='red')    # 绘制散点，落在圆内在点颜色用红色\n",
    "#     plt.title('蒙特卡洛法计算圆周率演示')             # 图的标题\n",
    "#     plt.show()                                     # 显示绘制结果\n",
    "# \n",
    "# \n",
    "# # 给出turtle模板，学生填monte_carlo代码，帮助学生理解算法，了解turtle绘图\n",
    "# def monte_carlo_pi_turtle(n, s):\n",
    "#     \"\"\"用turtle绘图模拟蒙特卡洛n次结果\"\"\"\n",
    "#     random.seed(s)\n",
    "#     turtle.tracer(1000)\n",
    "#     turtle.pensize(4)\n",
    "#     turtle.penup()\n",
    "#     turtle.goto(-300, -300)\n",
    "#     turtle.pendown()\n",
    "#     for i in range(4):\n",
    "#         turtle.forward(600)\n",
    "#         turtle.left(90)\n",
    "#     turtle.forward(300)\n",
    "#     turtle.pencolor('green')\n",
    "#     turtle.circle(300)\n",
    "#     hits = 0  # 落在圆内的计数器初值设为 0\n",
    "#     for i in range(1, n + 1):\n",
    "#         x, y = random.uniform(-1, 1), random.uniform(-1, 1)  # 生成两个随机数模拟一个点的坐标\n",
    "#         pos = (x ** 2 + y ** 2) ** 0.5                       # 计算坐标（x,y）到原点的距离\n",
    "#         if pos <= 1.0:                                       # 如果距离小于等于1，点在圆内\n",
    "#             hits = hits + 1\n",
    "#             turtle.pencolor('red')                           # 落在圆内在点颜色用红色\n",
    "#         else:                                                # 如果距离大于1，点在圆外\n",
    "#             turtle.pencolor('blue')                          # 落在圆内在点颜色用蓝色\n",
    "#         turtle.penup()\n",
    "#         turtle.goto(x * 300, y * 300)                        # 画笔抬起并移动到数值放大400倍的x,y处\n",
    "#         turtle.pendown()\n",
    "#         turtle.dot(3)                                        # 画一个半径为 3 的圆点\n",
    "#         if i % 10000 == 0:                                   # 实验为10000的倍数次时\n",
    "#             turtle.pencolor('black')\n",
    "#             pi = 4 * (hits / i)                              # 根据落在圆内外的点数量估算PI值\n",
    "#             turtle.penup()                                   # 画笔抬起\n",
    "#             turtle.goto(320, 150 - i // 1000 * 30)           # 移动到区域外记录当前PI值\n",
    "#             turtle.pendown()                                 # 画笔抬起\n",
    "#             turtle.write(\"{}次时PI的值是{:.4f}\".format(i, pi), font=(\"宋体\", 18, \"normal\"))\n",
    "#     turtle.hideturtle()  # 隐藏光标\n",
    "#     turtle.update()      # 刷新\n",
    "#     turtle.done()        # 结束绘制\n",
    "\n",
    "\n",
    "if __name__ == '__main__':\n",
    "    type_of_pi = input()             # 接收用户输入的字符串\n",
    "    cal_pi = type_judge(type_of_pi)  # 调用判断类型的函数\n",
    "    print(cal_pi)                    # 输出函数运行结果"
   ]
  },
  {
   "cell_type": "markdown",
   "metadata": {},
   "source": [
    "11. 随机密码生成"
   ]
  },
  {
   "cell_type": "code",
   "execution_count": null,
   "metadata": {},
   "outputs": [],
   "source": [
    "import random\n",
    "\n",
    "def genpwd(length):\n",
    "    a=random.randint(10**(length-1),(10**length-1))\n",
    "    return a\n",
    "\n",
    "\n",
    "length = eval(input())\n",
    "random.seed(17)\n",
    "for i in range(3):\n",
    "    print(genpwd(length))"
   ]
  },
  {
   "cell_type": "markdown",
   "metadata": {},
   "source": [
    "12. 阶乘累加求和"
   ]
  },
  {
   "cell_type": "code",
   "execution_count": null,
   "metadata": {},
   "outputs": [],
   "source": [
    "def multi(n):\n",
    "    if n==1:\n",
    "        return 1\n",
    "    else:\n",
    "        return n*multi(n-1)\n",
    "\n",
    "n=eval(input())\n",
    "s=0\n",
    "for i in range(1,n+1):\n",
    "    s += multi(i)\n",
    "\n",
    "print(s)"
   ]
  },
  {
   "cell_type": "markdown",
   "metadata": {},
   "source": [
    "13. 猴子吃桃 II"
   ]
  },
  {
   "cell_type": "code",
   "execution_count": null,
   "metadata": {},
   "outputs": [],
   "source": [
    "def peach(n):\n",
    "    ######################\n",
    "    # 补充你的代码\n",
    "    if n==10:\n",
    "        return 1\n",
    "    else:\n",
    "        return (peach(n+1)+1)*2\n",
    "\n",
    "    ######################\n",
    "\n",
    "for i in range(10,0,-1):\n",
    "    print(\"第{}天有{}只桃子\".format(i,peach(i)))"
   ]
  }
 ],
 "metadata": {
  "kernelspec": {
   "display_name": "Python 3",
   "language": "python",
   "name": "python3"
  },
  "language_info": {
   "codemirror_mode": {
    "name": "ipython",
    "version": 3
   },
   "file_extension": ".py",
   "mimetype": "text/x-python",
   "name": "python",
   "nbconvert_exporter": "python",
   "pygments_lexer": "ipython3",
   "version": "3.6.8"
  }
 },
 "nbformat": 4,
 "nbformat_minor": 2
}
