{
 "cells": [
  {
   "cell_type": "markdown",
   "metadata": {},
   "source": [
    "1. 计算弓形的面积"
   ]
  },
  {
   "cell_type": "code",
   "execution_count": 1,
   "metadata": {},
   "outputs": [
    {
     "name": "stdout",
     "output_type": "stream",
     "text": [
      "14.97\n",
      "151.16\n"
     ]
    }
   ],
   "source": [
    "# --------      -------    --------\n",
    "# @File   : 计算弓形的面积.py \n",
    "# @Author : 赵广辉   \n",
    "# @Contact: vasp@qq.com\n",
    "# @Company: 武汉理工大学\n",
    "# @Version: 1.0\n",
    "# @Modify : 2021/10/30 23:23\n",
    "# Python程序设计基础，高等教育出版社\n",
    "# --------      -------    --------\n",
    "import math\n",
    "\n",
    "\n",
    "# 输入弦长度，浮点数#\n",
    "#=======================================================\n",
    "# 补充你的代码\n",
    "AB=eval(input())\n",
    "\n",
    "\n",
    "# 输入弓高度，浮点数#\n",
    "CD=eval(input())\n",
    "\n",
    "\n",
    "# 计算半弦长#\n",
    "AD=AB/2\n",
    "\n",
    "\n",
    "# 计算半径#\n",
    "OA = (AD**2+CD**2)/(2*CD)\n",
    "\n",
    "\n",
    "# 计算圆心角#\n",
    "#=======================================================\n",
    "angle_AOB=2*math.asin(AD/OA)\n",
    "\n",
    "\n",
    "# 计算弓形所在扇形的面积#\n",
    "#=======================================================\n",
    "S_sector=angle_AOB/(2*math.pi)*math.pi*OA**2\n",
    "\n",
    "\n",
    "# 计算三角形面积#\n",
    "#=======================================================\n",
    "S_AOB=OA**2*math.sin(angle_AOB)/2\n",
    "\n",
    "# 计算弓形面积#\n",
    "#=======================================================\n",
    "S_arch=S_sector - S_AOB\n",
    "\n",
    "\n",
    "# 在两行中分别输出半径和弓形面积#\n",
    "#=======================================================\n",
    "print(f'{OA:.2f}')\n",
    "print(f'{S_arch:.2f}')\n"
   ]
  },
  {
   "cell_type": "markdown",
   "metadata": {},
   "source": [
    "2. 学费计算"
   ]
  },
  {
   "cell_type": "code",
   "execution_count": 2,
   "metadata": {},
   "outputs": [
    {
     "name": "stdout",
     "output_type": "stream",
     "text": [
      "你本学期选修了17个学分。\n",
      "你应缴纳的学费为5576元。\n"
     ]
    }
   ],
   "source": [
    "# --------      -------    --------\n",
    "# @Author : 赵广辉\n",
    "# @Contact: vasp@qq.com\n",
    "# @Company: 武汉理工大学\n",
    "# @Version: 1.0\n",
    "# @Modify : 2022/06/13 11:33\n",
    "# Python程序设计基础，赵广辉，高等教育出版社，2021\n",
    "# Python程序设计基础实践教程，赵广辉，高等教育出版社，2021\n",
    "# --------      -------    --------\n",
    "\n",
    "python = 3\n",
    "math = 4\n",
    "english = 4\n",
    "physical = 2\n",
    "military_theory = 2\n",
    "philosophy = 2\n",
    "#=======================================================\n",
    "# 补充你的代码\n",
    "#=======================================================\n",
    "course_credit = {'Python': 3, '高等数学': 4, '大学英语': 4, '大学体育': 2, '军事理论': 2, '哲学': 2}\n",
    "fee = eval(input())\n",
    "print('你本学期选修了%d个学分。'%(sum(course_credit.values())))\n",
    "print('你应缴纳的学费为%d元。'%(fee * sum(course_credit.values())))"
   ]
  },
  {
   "cell_type": "markdown",
   "metadata": {},
   "source": [
    "3. 助学贷款额度计算"
   ]
  },
  {
   "cell_type": "code",
   "execution_count": 8,
   "metadata": {},
   "outputs": [
    {
     "name": "stdout",
     "output_type": "stream",
     "text": [
      "328\n",
      "1600\n",
      "本学期你能够贷款8145.60元\n"
     ]
    }
   ],
   "source": [
    "course_credit = {'Python': 3, '高等数学': 4, '大学英语': 4, '大学体育': 2, '军事理论': 2, '哲学': 2}\n",
    "fee = eval(input())\n",
    "month_cost = eval(input())\n",
    "print('本学期你能够贷款%.2f元'%((fee * sum(course_credit.values()) + month_cost * 5)*0.6))"
   ]
  },
  {
   "cell_type": "markdown",
   "metadata": {},
   "source": [
    "4. 商店找钱给顾客"
   ]
  },
  {
   "cell_type": "code",
   "execution_count": 9,
   "metadata": {},
   "outputs": [
    {
     "name": "stdout",
     "output_type": "stream",
     "text": [
      "281\n",
      "50yuan： 5\n",
      "5yuan： 6\n",
      "1yuan： 1\n"
     ]
    }
   ],
   "source": [
    "money=eval(input())\n",
    "m50=money//50\n",
    "m5=(money%50)//5\n",
    "m1=money%5\n",
    "print(\"50yuan：\",m50)\n",
    "print(\"5yuan：\",m5)\n",
    "print(\"1yuan：\",m1)"
   ]
  },
  {
   "cell_type": "markdown",
   "metadata": {},
   "source": [
    "5. 字符串格式化输出"
   ]
  },
  {
   "cell_type": "code",
   "execution_count": 3,
   "metadata": {},
   "outputs": [
    {
     "name": "stdout",
     "output_type": "stream",
     "text": [
      "@@@@@@@@@@@@PYTHON@@@@@@@@@@@@\n"
     ]
    }
   ],
   "source": [
    "s='PYTHON'\n",
    "a=input()\n",
    "print('{0:{1}^30}'.format(s,a))"
   ]
  },
  {
   "cell_type": "markdown",
   "metadata": {},
   "source": [
    "6. 逆序"
   ]
  },
  {
   "cell_type": "code",
   "execution_count": 10,
   "metadata": {},
   "outputs": [
    {
     "name": "stdout",
     "output_type": "stream",
     "text": [
      "123\n",
      "321\n"
     ]
    }
   ],
   "source": [
    "N=input()\n",
    "print(N[-1::-1])"
   ]
  },
  {
   "cell_type": "markdown",
   "metadata": {},
   "source": [
    "7. 汉字的 Unicode 编码值"
   ]
  },
  {
   "cell_type": "code",
   "execution_count": 4,
   "metadata": {},
   "outputs": [
    {
     "name": "stdout",
     "output_type": "stream",
     "text": [
      "\"国\"汉字的Unicode编码：22269\n"
     ]
    }
   ],
   "source": [
    "s = input()\n",
    "\n",
    "print(\"\\\"{}\\\"汉字的Unicode编码：{}\".format(s, ord(s)))"
   ]
  }
 ],
 "metadata": {
  "kernelspec": {
   "display_name": "Python 3",
   "language": "python",
   "name": "python3"
  },
  "language_info": {
   "codemirror_mode": {
    "name": "ipython",
    "version": 3
   },
   "file_extension": ".py",
   "mimetype": "text/x-python",
   "name": "python",
   "nbconvert_exporter": "python",
   "pygments_lexer": "ipython3",
   "version": "3.6.8"
  }
 },
 "nbformat": 4,
 "nbformat_minor": 2
}
