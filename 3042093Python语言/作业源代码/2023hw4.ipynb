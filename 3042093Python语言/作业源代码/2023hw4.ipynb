{
 "cells": [
  {
   "cell_type": "markdown",
   "metadata": {},
   "source": [
    "1. 斐波纳契数列 II"
   ]
  },
  {
   "cell_type": "code",
   "execution_count": null,
   "metadata": {},
   "outputs": [],
   "source": [
    "def fbi(n):\n",
    "    if n == 1 or n == 2:\n",
    "        return 1\n",
    "    else:\n",
    "        return fbi(n-1)+fbi(n-2)\n",
    "\n",
    "n = eval(input())\n",
    "print(fbi(n))"
   ]
  },
  {
   "cell_type": "markdown",
   "metadata": {},
   "source": [
    "2. 连续质数计算"
   ]
  },
  {
   "cell_type": "code",
   "execution_count": 3,
   "metadata": {},
   "outputs": [
    {
     "name": "stdout",
     "output_type": "stream",
     "text": [
      "12\n",
      "13,17,19,23,29\n"
     ]
    }
   ],
   "source": [
    "import math\n",
    "def prime(m):\n",
    "    m = math.ceil(m)\n",
    "    def is_prime(n):\n",
    "        flag = True\n",
    "        if n == 1:\n",
    "            flag = False\n",
    "        else:\n",
    "            for i in range(2, int(n**0.5) + 1):\n",
    "                if n % i == 0:\n",
    "                    flag = False\n",
    "                    break\n",
    "        return flag\n",
    "    result = []\n",
    "    num = 5\n",
    "    while num:\n",
    "        if is_prime(m):\n",
    "            result.append(str(m))\n",
    "            num -= 1\n",
    "        m += 1\n",
    "    return ','.join(result)\n",
    "\n",
    "n = eval(input())\n",
    "print(prime(n))"
   ]
  },
  {
   "cell_type": "markdown",
   "metadata": {},
   "source": [
    "3. 随机密码生成"
   ]
  },
  {
   "cell_type": "code",
   "execution_count": null,
   "metadata": {},
   "outputs": [],
   "source": [
    "import random\n",
    "\n",
    "def genpwd(length):\n",
    "    a=random.randint(10**(length-1),(10**length-1))\n",
    "    return a\n",
    "\n",
    "length = eval(input())\n",
    "random.seed(17)\n",
    "for i in range(3):\n",
    "    print(genpwd(length))"
   ]
  },
  {
   "cell_type": "markdown",
   "metadata": {},
   "source": [
    "4. 输出九九乘法表"
   ]
  },
  {
   "cell_type": "code",
   "execution_count": 1,
   "metadata": {},
   "outputs": [
    {
     "name": "stdout",
     "output_type": "stream",
     "text": [
      "1×1=1 \n",
      "1×2=2 2×2=4 \n",
      "1×3=3 2×3=6 3×3=9 \n",
      "1×4=4 2×4=8 3×4=12 4×4=16 \n",
      "1×5=5 2×5=10 3×5=15 4×5=20 5×5=25 \n",
      "1×6=6 2×6=12 3×6=18 4×6=24 5×6=30 6×6=36 \n",
      "1×7=7 2×7=14 3×7=21 4×7=28 5×7=35 6×7=42 7×7=49 \n",
      "1×8=8 2×8=16 3×8=24 4×8=32 5×8=40 6×8=48 7×8=56 8×8=64 \n",
      "1×9=9 2×9=18 3×9=27 4×9=36 5×9=45 6×9=54 7×9=63 8×9=72 9×9=81 \n"
     ]
    }
   ],
   "source": [
    "for i in range(1, 10):\n",
    "    for j in range(1, i+1):\n",
    "        print('{0}×{1}={2}'.format(j, i, j*i), end = ' ')\n",
    "    print()"
   ]
  },
  {
   "cell_type": "markdown",
   "metadata": {},
   "source": [
    "5. 寻找水仙花数"
   ]
  },
  {
   "cell_type": "code",
   "execution_count": 5,
   "metadata": {},
   "outputs": [
    {
     "name": "stdout",
     "output_type": "stream",
     "text": [
      "153\n",
      "370\n",
      "371\n",
      "407\n"
     ]
    }
   ],
   "source": [
    "for i in range(100, 1000):\n",
    "    a = i // 100\n",
    "    b = (i%100) // 10\n",
    "    c = i % 10\n",
    "    if (a**3 + b**3 + c**3) == i:\n",
    "        print(i)"
   ]
  },
  {
   "cell_type": "markdown",
   "metadata": {},
   "source": [
    "6. 输入一个数字n，输出一个边长为n的正方形。"
   ]
  },
  {
   "cell_type": "code",
   "execution_count": null,
   "metadata": {},
   "outputs": [],
   "source": [
    "n = int(input())\n",
    "for i in range(1, n+1):\n",
    "    if i == 1 or i == n:\n",
    "        print('*'*n)\n",
    "    else:\n",
    "        print(\"*\"+\" \"*(n-2)+\"*\")"
   ]
  }
 ],
 "metadata": {
  "kernelspec": {
   "display_name": "Python 3",
   "language": "python",
   "name": "python3"
  },
  "language_info": {
   "codemirror_mode": {
    "name": "ipython",
    "version": 3
   },
   "file_extension": ".py",
   "mimetype": "text/x-python",
   "name": "python",
   "nbconvert_exporter": "python",
   "pygments_lexer": "ipython3",
   "version": "3.6.8"
  }
 },
 "nbformat": 4,
 "nbformat_minor": 2
}
